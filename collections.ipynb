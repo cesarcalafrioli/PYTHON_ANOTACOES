{
  "nbformat": 4,
  "nbformat_minor": 0,
  "metadata": {
    "colab": {
      "provenance": [],
      "authorship_tag": "ABX9TyPQjy42oqaJ/yTbUUB6FYRz",
      "include_colab_link": true
    },
    "kernelspec": {
      "name": "python3",
      "display_name": "Python 3"
    },
    "language_info": {
      "name": "python"
    }
  },
  "cells": [
    {
      "cell_type": "markdown",
      "metadata": {
        "id": "view-in-github",
        "colab_type": "text"
      },
      "source": [
        "<a href=\"https://colab.research.google.com/github/cesarcalafrioli/PYTHON_ANOTACOES/blob/main/collections.ipynb\" target=\"_parent\"><img src=\"https://colab.research.google.com/assets/colab-badge.svg\" alt=\"Open In Colab\"/></a>"
      ]
    },
    {
      "cell_type": "markdown",
      "source": [
        "# LISTA"
      ],
      "metadata": {
        "id": "y6OyxMo_2Gte"
      }
    },
    {
      "cell_type": "code",
      "execution_count": null,
      "metadata": {
        "id": "n8Mu4jYPxT_7"
      },
      "outputs": [],
      "source": [
        "idade1 = 39\n",
        "idade2 = 30\n",
        "idade3 = 27\n",
        "idade4 = 18\n",
        "\n",
        "print(idade1)\n",
        "print(idade2)\n",
        "print(idade3)\n",
        "print(idade4)"
      ]
    },
    {
      "cell_type": "code",
      "source": [
        "# Lista\n",
        "idades = [39, 30, 27, 18]"
      ],
      "metadata": {
        "id": "R4OPujMCzWpS"
      },
      "execution_count": null,
      "outputs": []
    },
    {
      "cell_type": "code",
      "source": [
        "# Informa a classe\n",
        "type(idades)"
      ],
      "metadata": {
        "id": "2eoJxXtSzb9S"
      },
      "execution_count": null,
      "outputs": []
    },
    {
      "cell_type": "code",
      "source": [
        "# Número de elementos na lista\n",
        "len(idades)"
      ],
      "metadata": {
        "id": "oW2losWI08py"
      },
      "execution_count": null,
      "outputs": []
    },
    {
      "cell_type": "code",
      "source": [
        "# Imprime o primeiro elemento\n",
        "idades[0]"
      ],
      "metadata": {
        "id": "YlmUHDsK1cHB"
      },
      "execution_count": null,
      "outputs": []
    },
    {
      "cell_type": "code",
      "source": [
        "# Imprime tudo\n",
        "idades"
      ],
      "metadata": {
        "id": "sAEtCEoF1jBD"
      },
      "execution_count": null,
      "outputs": []
    },
    {
      "cell_type": "code",
      "source": [
        "print(idades[1])\n",
        "print(idades[2])\n",
        "print(idades[3])"
      ],
      "metadata": {
        "id": "AG0faszw1kwb"
      },
      "execution_count": null,
      "outputs": []
    },
    {
      "cell_type": "code",
      "source": [
        "# Adicionar item ao fim da lista\n",
        "idades.append(15)"
      ],
      "metadata": {
        "id": "tdY3E0LT16Ts"
      },
      "execution_count": null,
      "outputs": []
    },
    {
      "cell_type": "code",
      "source": [
        "idades"
      ],
      "metadata": {
        "id": "CtQcfojC1-uP"
      },
      "execution_count": null,
      "outputs": []
    },
    {
      "cell_type": "code",
      "source": [
        "# Informa o 5 elemento da lista\n",
        "idades[4]"
      ],
      "metadata": {
        "id": "GYW74TtP2AfG"
      },
      "execution_count": null,
      "outputs": []
    },
    {
      "cell_type": "code",
      "source": [
        "for idade in idades:\n",
        "  print(idade)"
      ],
      "metadata": {
        "id": "nBXTcCiY2DuW"
      },
      "execution_count": null,
      "outputs": []
    },
    {
      "cell_type": "code",
      "source": [
        "# Removendo um elemento da lista\n",
        "idades.remove(30)"
      ],
      "metadata": {
        "id": "f2UgsntM2RHG"
      },
      "execution_count": null,
      "outputs": []
    },
    {
      "cell_type": "code",
      "source": [
        "idades.append(27) # Adiciona um elemento ao fim da lista\n",
        "idades.remove(27) # Remove o primeiro elemento da lista que tenha o valor 27\n",
        "idades"
      ],
      "metadata": {
        "id": "QnOwK31N2UD_"
      },
      "execution_count": null,
      "outputs": []
    },
    {
      "cell_type": "code",
      "source": [
        "28 in idades"
      ],
      "metadata": {
        "id": "x3CIGqXM3bnE"
      },
      "execution_count": null,
      "outputs": []
    },
    {
      "cell_type": "code",
      "source": [
        "15 in idades"
      ],
      "metadata": {
        "colab": {
          "base_uri": "https://localhost:8080/"
        },
        "id": "7CCr2EfJ3ie1",
        "outputId": "6aa57ee0-d9d2-4b69-eb61-1dc26d01dbcf"
      },
      "execution_count": null,
      "outputs": [
        {
          "output_type": "execute_result",
          "data": {
            "text/plain": [
              "True"
            ]
          },
          "metadata": {},
          "execution_count": 16
        }
      ]
    },
    {
      "cell_type": "code",
      "source": [
        "# Remove o elemento de valor 15 na lista\n",
        "if 15 in idades:\n",
        "  idades.remove(15)"
      ],
      "metadata": {
        "id": "qNZ39hTc3mQt"
      },
      "execution_count": null,
      "outputs": []
    },
    {
      "cell_type": "code",
      "source": [
        "idades"
      ],
      "metadata": {
        "colab": {
          "base_uri": "https://localhost:8080/"
        },
        "id": "Nv7f2c6D3pRF",
        "outputId": "ef63de99-20d9-41bb-efc5-14cf0a093135"
      },
      "execution_count": null,
      "outputs": [
        {
          "output_type": "execute_result",
          "data": {
            "text/plain": [
              "[39, 18, 27]"
            ]
          },
          "metadata": {},
          "execution_count": 18
        }
      ]
    },
    {
      "cell_type": "code",
      "source": [
        "# Removendo elemento de valor 28 na lista\n",
        "if 28 in idades:\n",
        "  idades.remove(28)"
      ],
      "metadata": {
        "id": "Zd2TehbB3tuw"
      },
      "execution_count": null,
      "outputs": []
    },
    {
      "cell_type": "code",
      "source": [
        "# como o valor 28 nao tem na lista, não houve remoção alguma\n",
        "idades"
      ],
      "metadata": {
        "colab": {
          "base_uri": "https://localhost:8080/"
        },
        "id": "CAFVGbWd31rg",
        "outputId": "8d069196-1dc8-4985-9c47-b5accf74a14a"
      },
      "execution_count": null,
      "outputs": [
        {
          "output_type": "execute_result",
          "data": {
            "text/plain": [
              "[39, 18, 27]"
            ]
          },
          "metadata": {},
          "execution_count": 19
        }
      ]
    },
    {
      "cell_type": "code",
      "source": [
        "idades.append(19)\n",
        "idades"
      ],
      "metadata": {
        "colab": {
          "base_uri": "https://localhost:8080/"
        },
        "id": "qRxpwSOX39Dm",
        "outputId": "bf04171d-4b45-41ba-e4a8-f877d17a25c5"
      },
      "execution_count": null,
      "outputs": [
        {
          "output_type": "execute_result",
          "data": {
            "text/plain": [
              "[39, 18, 27, 19]"
            ]
          },
          "metadata": {},
          "execution_count": 20
        }
      ]
    },
    {
      "cell_type": "code",
      "source": [
        "# Inserindo elemento de valor 20 como o primeiro da lista\n",
        "idades.insert(0, 20)\n",
        "idades"
      ],
      "metadata": {
        "id": "LqXjK7vy4BW3"
      },
      "execution_count": null,
      "outputs": []
    },
    {
      "cell_type": "code",
      "source": [
        "idades.append([27,19])"
      ],
      "metadata": {
        "id": "PRGjF0nq4J9b"
      },
      "execution_count": null,
      "outputs": []
    },
    {
      "cell_type": "code",
      "source": [
        "idades"
      ],
      "metadata": {
        "colab": {
          "base_uri": "https://localhost:8080/"
        },
        "id": "zlXeJjIy4PcD",
        "outputId": "6691e9b5-43b3-44df-a99a-ca9c667910fd"
      },
      "execution_count": null,
      "outputs": [
        {
          "output_type": "execute_result",
          "data": {
            "text/plain": [
              "[20, 39, 18, 27, 19, [27, 19]]"
            ]
          },
          "metadata": {},
          "execution_count": 23
        }
      ]
    },
    {
      "cell_type": "code",
      "source": [
        "for elemento in idades:\n",
        "  print(\"Recebi o elemento\", elemento)"
      ],
      "metadata": {
        "colab": {
          "base_uri": "https://localhost:8080/"
        },
        "id": "1WXVknRm4QVD",
        "outputId": "9271ed58-2099-4372-cbc5-5f2c4fbb537f"
      },
      "execution_count": null,
      "outputs": [
        {
          "output_type": "stream",
          "name": "stdout",
          "text": [
            "Recebi o elemento 20\n",
            "Recebi o elemento 39\n",
            "Recebi o elemento 18\n",
            "Recebi o elemento 27\n",
            "Recebi o elemento 19\n",
            "Recebi o elemento [27, 19]\n"
          ]
        }
      ]
    },
    {
      "cell_type": "code",
      "source": [
        "idades = [20, 39, 18]\n",
        "idades.extend([27, 19])\n",
        "idades"
      ],
      "metadata": {
        "colab": {
          "base_uri": "https://localhost:8080/"
        },
        "id": "UWRqUr9y4kga",
        "outputId": "6711f3ac-5654-4079-a749-f71378b5f938"
      },
      "execution_count": null,
      "outputs": [
        {
          "output_type": "execute_result",
          "data": {
            "text/plain": [
              "[20, 39, 18, 27, 19]"
            ]
          },
          "metadata": {},
          "execution_count": 25
        }
      ]
    },
    {
      "cell_type": "code",
      "source": [
        "for idade in idades:\n",
        "  print(idade+1)"
      ],
      "metadata": {
        "id": "_jV3891E45m8"
      },
      "execution_count": null,
      "outputs": []
    },
    {
      "cell_type": "code",
      "source": [
        "idades_no_ano_que_vem = []\n",
        "for idade in idades:\n",
        "  idades_no_ano_que_vem.append(idade+1)\n",
        "idades_no_ano_que_vem"
      ],
      "metadata": {
        "colab": {
          "base_uri": "https://localhost:8080/"
        },
        "id": "g-CSSlqn5Al8",
        "outputId": "91f09de6-1c64-4fe0-82b0-d89553a50d13"
      },
      "execution_count": null,
      "outputs": [
        {
          "output_type": "execute_result",
          "data": {
            "text/plain": [
              "[21, 40, 19, 28, 20]"
            ]
          },
          "metadata": {},
          "execution_count": 27
        }
      ]
    },
    {
      "cell_type": "code",
      "source": [],
      "metadata": {
        "id": "GRpix1F051Q_"
      },
      "execution_count": null,
      "outputs": []
    },
    {
      "cell_type": "markdown",
      "source": [
        "# LIST COMPREHENSION"
      ],
      "metadata": {
        "id": "7aKwtVQQ3ZHz"
      }
    },
    {
      "cell_type": "code",
      "source": [
        "[(idade+1) for idade in idades]"
      ],
      "metadata": {
        "colab": {
          "base_uri": "https://localhost:8080/"
        },
        "id": "bUywmipB58HT",
        "outputId": "a30d2e0d-8273-4d41-c950-332b5a170154"
      },
      "execution_count": null,
      "outputs": [
        {
          "output_type": "execute_result",
          "data": {
            "text/plain": [
              "[21, 40, 19, 28, 20]"
            ]
          },
          "metadata": {},
          "execution_count": 28
        }
      ]
    },
    {
      "cell_type": "code",
      "source": [
        "idades_no_ano_que_vem = [(idade+1) for idade in idades]\n",
        "idades_no_ano_que_vem"
      ],
      "metadata": {
        "id": "CeW3gLNA6Fqc"
      },
      "execution_count": null,
      "outputs": []
    },
    {
      "cell_type": "code",
      "source": [
        "[(idade) for idade in idades if idade > 21]"
      ],
      "metadata": {
        "colab": {
          "base_uri": "https://localhost:8080/"
        },
        "id": "joU7zls36Ozx",
        "outputId": "259c46d9-0055-43fa-fd89-a0d06ab2ef02"
      },
      "execution_count": null,
      "outputs": [
        {
          "output_type": "execute_result",
          "data": {
            "text/plain": [
              "[39, 27]"
            ]
          },
          "metadata": {},
          "execution_count": 29
        }
      ]
    },
    {
      "cell_type": "code",
      "source": [
        "idades"
      ],
      "metadata": {
        "colab": {
          "base_uri": "https://localhost:8080/"
        },
        "id": "x707IXj06kPV",
        "outputId": "2bded533-2ba7-4206-9b88-b1c9438c74ad"
      },
      "execution_count": null,
      "outputs": [
        {
          "output_type": "execute_result",
          "data": {
            "text/plain": [
              "[20, 39, 18, 27, 19]"
            ]
          },
          "metadata": {},
          "execution_count": 30
        }
      ]
    },
    {
      "cell_type": "code",
      "source": [
        "def proximo_ano(idade):\n",
        "  return idade+1\n",
        "\n",
        "[proximo_ano(idade) for idade in idades if idade > 21]"
      ],
      "metadata": {
        "colab": {
          "base_uri": "https://localhost:8080/"
        },
        "id": "n2EqHaOg6lr6",
        "outputId": "0a7398c2-635b-4a91-ca1b-6f91b9c3ff04"
      },
      "execution_count": null,
      "outputs": [
        {
          "output_type": "execute_result",
          "data": {
            "text/plain": [
              "[40, 28]"
            ]
          },
          "metadata": {},
          "execution_count": 31
        }
      ]
    },
    {
      "cell_type": "code",
      "source": [
        "def faz_processamento_de_visualizacao(lista):\n",
        "  print(len(lista))\n",
        "  lista.append(13)"
      ],
      "metadata": {
        "id": "-GpX5l2A6tur"
      },
      "execution_count": null,
      "outputs": []
    },
    {
      "cell_type": "code",
      "source": [
        "idades = [16, 21, 29, 56, 43]\n",
        "faz_processamento_de_visualizacao(idades)\n",
        "idades"
      ],
      "metadata": {
        "id": "iFhGKY_h7sKS"
      },
      "execution_count": null,
      "outputs": []
    },
    {
      "cell_type": "code",
      "source": [
        "def faz_processamento_de_visualizacao(lista = []):\n",
        "  print(len(lista))\n",
        "  print(lista)\n",
        "  lista.append(13)"
      ],
      "metadata": {
        "id": "8T69sxm3L_nb"
      },
      "execution_count": 40,
      "outputs": []
    },
    {
      "cell_type": "code",
      "source": [
        "faz_processamento_de_visualizacao()"
      ],
      "metadata": {
        "colab": {
          "base_uri": "https://localhost:8080/"
        },
        "id": "Jj2K98wbMFID",
        "outputId": "a913958d-9d60-491a-f136-a1d36affd0b1"
      },
      "execution_count": 41,
      "outputs": [
        {
          "output_type": "stream",
          "name": "stdout",
          "text": [
            "0\n",
            "[]\n"
          ]
        }
      ]
    },
    {
      "cell_type": "code",
      "source": [
        "faz_processamento_de_visualizacao()"
      ],
      "metadata": {
        "colab": {
          "base_uri": "https://localhost:8080/"
        },
        "id": "rqJcWaV8MLhj",
        "outputId": "01c687e7-faac-4c30-b6a4-fc85e1f0fecc"
      },
      "execution_count": 42,
      "outputs": [
        {
          "output_type": "stream",
          "name": "stdout",
          "text": [
            "1\n",
            "[13]\n"
          ]
        }
      ]
    },
    {
      "cell_type": "code",
      "source": [
        "faz_processamento_de_visualizacao()"
      ],
      "metadata": {
        "colab": {
          "base_uri": "https://localhost:8080/"
        },
        "id": "mgInWRDhNjOx",
        "outputId": "62ba75ad-c568-4138-e4d0-af16e2f87d7d"
      },
      "execution_count": 43,
      "outputs": [
        {
          "output_type": "stream",
          "name": "stdout",
          "text": [
            "2\n",
            "[13, 13]\n"
          ]
        }
      ]
    },
    {
      "cell_type": "code",
      "source": [
        "def faz_processamento_de_visualizacao(lista = []):\n",
        "  print(len(lista))\n",
        "  print(lista)\n",
        "  lista.append(13)"
      ],
      "metadata": {
        "id": "JNj3qSX7NlYH"
      },
      "execution_count": 44,
      "outputs": []
    },
    {
      "cell_type": "code",
      "source": [
        "faz_processamento_de_visualizacao()\n",
        "faz_processamento_de_visualizacao()"
      ],
      "metadata": {
        "colab": {
          "base_uri": "https://localhost:8080/"
        },
        "id": "WvYr2uJ8NtKA",
        "outputId": "03c07936-882e-4fe6-baf8-e6755bb9410f"
      },
      "execution_count": 45,
      "outputs": [
        {
          "output_type": "stream",
          "name": "stdout",
          "text": [
            "0\n",
            "[]\n",
            "1\n",
            "[13]\n"
          ]
        }
      ]
    },
    {
      "cell_type": "code",
      "source": [
        "def faz_processamento_de_visualizacao(lista = None):\n",
        "  if lista == None:\n",
        "    lista = list()\n",
        "  print(len(lista))\n",
        "  print(lista)\n",
        "  lista.append(13)"
      ],
      "metadata": {
        "id": "-zB2fqhhNybQ"
      },
      "execution_count": 46,
      "outputs": []
    },
    {
      "cell_type": "code",
      "source": [
        "faz_processamento_de_visualizacao()\n",
        "faz_processamento_de_visualizacao()\n",
        "faz_processamento_de_visualizacao()\n",
        "faz_processamento_de_visualizacao()\n"
      ],
      "metadata": {
        "id": "SuAV480AN_cA"
      },
      "execution_count": null,
      "outputs": []
    },
    {
      "cell_type": "markdown",
      "source": [
        "# OBJETOS PRÓPRIOS"
      ],
      "metadata": {
        "id": "Dv0n76Y8PKaG"
      }
    },
    {
      "cell_type": "code",
      "source": [
        "class ContaCorrente:\n",
        "  def __init__(self, codigo):\n",
        "    self.codigo = codigo\n",
        "    self.saldo = 0\n",
        "\n",
        "  def deposita(self, valor):\n",
        "    self.saldo += valor\n",
        "\n",
        "  def __str__(self):\n",
        "    return \"[>>Codigo {} Saldo {}<<]\".format(self.codigo, self.saldo)"
      ],
      "metadata": {
        "id": "kmWPrwkPPODc"
      },
      "execution_count": 48,
      "outputs": []
    },
    {
      "cell_type": "code",
      "source": [
        "conta_do_gui = ContaCorrente(15)\n",
        "print(conta_do_gui)"
      ],
      "metadata": {
        "colab": {
          "base_uri": "https://localhost:8080/"
        },
        "id": "NtbohW0WPuul",
        "outputId": "fc932b7f-ddc4-4428-d56c-bd390706aa92"
      },
      "execution_count": 49,
      "outputs": [
        {
          "output_type": "stream",
          "name": "stdout",
          "text": [
            "[>>Codigo 15 Saldo 0<<]\n"
          ]
        }
      ]
    },
    {
      "cell_type": "code",
      "source": [
        "conta_do_gui.deposita(500)\n",
        "print(conta_do_gui)"
      ],
      "metadata": {
        "colab": {
          "base_uri": "https://localhost:8080/"
        },
        "id": "hvxpGlrrP6FW",
        "outputId": "d5a71f24-367c-4487-f645-18f0a3526bd5"
      },
      "execution_count": 50,
      "outputs": [
        {
          "output_type": "stream",
          "name": "stdout",
          "text": [
            "[>>Codigo 15 Saldo 500<<]\n"
          ]
        }
      ]
    },
    {
      "cell_type": "code",
      "source": [
        "conta_da_dani = ContaCorrente(47685)\n",
        "conta_da_dani.deposita(1000)\n",
        "print(conta_da_dani)"
      ],
      "metadata": {
        "id": "U2PskNNhQALO"
      },
      "execution_count": null,
      "outputs": []
    },
    {
      "cell_type": "code",
      "source": [
        "contas = [conta_do_gui, conta_da_dani]\n",
        "print(contas)"
      ],
      "metadata": {
        "colab": {
          "base_uri": "https://localhost:8080/"
        },
        "id": "1GRm2kUHQKem",
        "outputId": "dbbbaf5f-3a1b-411f-9ff3-2ea9eab80b90"
      },
      "execution_count": 52,
      "outputs": [
        {
          "output_type": "stream",
          "name": "stdout",
          "text": [
            "[<__main__.ContaCorrente object at 0x7b227fa391e0>, <__main__.ContaCorrente object at 0x7b227fa39000>]\n"
          ]
        }
      ]
    },
    {
      "cell_type": "code",
      "source": [
        "for conta in contas:\n",
        "  print(conta)"
      ],
      "metadata": {
        "id": "MoQPCyqnQyMh"
      },
      "execution_count": null,
      "outputs": []
    },
    {
      "cell_type": "code",
      "source": [
        "contas = [conta_do_gui, conta_da_dani, conta_do_gui]"
      ],
      "metadata": {
        "id": "MP6-JrWNQ9lE"
      },
      "execution_count": 54,
      "outputs": []
    },
    {
      "cell_type": "code",
      "source": [
        "print(contas[0])"
      ],
      "metadata": {
        "colab": {
          "base_uri": "https://localhost:8080/"
        },
        "id": "Kw8Qj6CCRBUB",
        "outputId": "f1f38769-c860-4526-fdf1-4c6502a06b59"
      },
      "execution_count": 55,
      "outputs": [
        {
          "output_type": "stream",
          "name": "stdout",
          "text": [
            "[>>Codigo 15 Saldo 500<<]\n"
          ]
        }
      ]
    },
    {
      "cell_type": "code",
      "source": [
        "conta_do_gui.deposita(100)"
      ],
      "metadata": {
        "id": "M5RzRl51REmD"
      },
      "execution_count": 56,
      "outputs": []
    },
    {
      "cell_type": "code",
      "source": [
        "print(contas[0])"
      ],
      "metadata": {
        "colab": {
          "base_uri": "https://localhost:8080/"
        },
        "id": "ekV2oouoRTIa",
        "outputId": "c59c0852-f268-4ec6-fc10-0c2764f51f16"
      },
      "execution_count": 57,
      "outputs": [
        {
          "output_type": "stream",
          "name": "stdout",
          "text": [
            "[>>Codigo 15 Saldo 600<<]\n"
          ]
        }
      ]
    },
    {
      "cell_type": "code",
      "source": [
        "print(conta_do_gui)"
      ],
      "metadata": {
        "colab": {
          "base_uri": "https://localhost:8080/"
        },
        "id": "4Z2to3TXReXq",
        "outputId": "31d307ba-3371-45b6-e741-8c6d2a94bee8"
      },
      "execution_count": 58,
      "outputs": [
        {
          "output_type": "stream",
          "name": "stdout",
          "text": [
            "[>>Codigo 15 Saldo 600<<]\n"
          ]
        }
      ]
    },
    {
      "cell_type": "code",
      "source": [
        "print(contas[2])"
      ],
      "metadata": {
        "colab": {
          "base_uri": "https://localhost:8080/"
        },
        "id": "BqrYT659RhOD",
        "outputId": "17016763-823f-4d93-cc92-0ef61b17182c"
      },
      "execution_count": 59,
      "outputs": [
        {
          "output_type": "stream",
          "name": "stdout",
          "text": [
            "[>>Codigo 15 Saldo 600<<]\n"
          ]
        }
      ]
    },
    {
      "cell_type": "code",
      "source": [
        "contas[2].deposita(300)"
      ],
      "metadata": {
        "id": "hmVdt2TNRpNb"
      },
      "execution_count": 60,
      "outputs": []
    },
    {
      "cell_type": "code",
      "source": [
        "print(conta_do_gui)"
      ],
      "metadata": {
        "colab": {
          "base_uri": "https://localhost:8080/"
        },
        "id": "_2oas47qRruj",
        "outputId": "95c6cff7-b753-48be-b862-3ae973e0ded2"
      },
      "execution_count": 61,
      "outputs": [
        {
          "output_type": "stream",
          "name": "stdout",
          "text": [
            "[>>Codigo 15 Saldo 900<<]\n"
          ]
        }
      ]
    },
    {
      "cell_type": "markdown",
      "source": [
        "# TUPLAS"
      ],
      "metadata": {
        "id": "xshvq7gmTQyX"
      }
    },
    {
      "cell_type": "code",
      "source": [],
      "metadata": {
        "id": "KJBKo8mRTSW3"
      },
      "execution_count": null,
      "outputs": []
    }
  ]
}