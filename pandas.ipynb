{
  "nbformat": 4,
  "nbformat_minor": 0,
  "metadata": {
    "colab": {
      "provenance": [],
      "authorship_tag": "ABX9TyO8XJTXozPelQgtDzz+lutM",
      "include_colab_link": true
    },
    "kernelspec": {
      "name": "python3",
      "display_name": "Python 3"
    },
    "language_info": {
      "name": "python"
    }
  },
  "cells": [
    {
      "cell_type": "markdown",
      "metadata": {
        "id": "view-in-github",
        "colab_type": "text"
      },
      "source": [
        "<a href=\"https://colab.research.google.com/github/cesarcalafrioli/PYTHON_ANOTACOES/blob/main/pandas.ipynb\" target=\"_parent\"><img src=\"https://colab.research.google.com/assets/colab-badge.svg\" alt=\"Open In Colab\"/></a>"
      ]
    },
    {
      "cell_type": "markdown",
      "source": [
        "# **PANDAS - ANOTAÇÕES**"
      ],
      "metadata": {
        "id": "GIn27oIl2Yn_"
      }
    },
    {
      "cell_type": "markdown",
      "source": [
        "[pandas.pydata.org/pandas-docs/stable/](https://)"
      ],
      "metadata": {
        "id": "-KVi8Ou_2lAN"
      }
    },
    {
      "cell_type": "code",
      "execution_count": 1,
      "metadata": {
        "id": "xIck9X-_nQsT"
      },
      "outputs": [],
      "source": [
        "import pandas as pd"
      ]
    },
    {
      "cell_type": "code",
      "source": [
        "pd.read_csv('https://github.com/cesarcalafrioli/PYTHON_ANOTACOES/blob/main/dados/aluguel.csv')"
      ],
      "metadata": {
        "id": "-nOw0j-K7dj3"
      },
      "execution_count": null,
      "outputs": []
    }
  ]
}