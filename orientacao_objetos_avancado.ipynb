{
  "nbformat": 4,
  "nbformat_minor": 0,
  "metadata": {
    "colab": {
      "provenance": [],
      "authorship_tag": "ABX9TyMwFZayrrlGHZCpqPHsXevT",
      "include_colab_link": true
    },
    "kernelspec": {
      "name": "python3",
      "display_name": "Python 3"
    },
    "language_info": {
      "name": "python"
    }
  },
  "cells": [
    {
      "cell_type": "markdown",
      "metadata": {
        "id": "view-in-github",
        "colab_type": "text"
      },
      "source": [
        "<a href=\"https://colab.research.google.com/github/cesarcalafrioli/PYTHON_ANOTACOES/blob/main/orientacao_objetos_avancado.ipynb\" target=\"_parent\"><img src=\"https://colab.research.google.com/assets/colab-badge.svg\" alt=\"Open In Colab\"/></a>"
      ]
    },
    {
      "cell_type": "markdown",
      "source": [
        "ORIENTAÇÃO A OBJETOS - AVANÇADO"
      ],
      "metadata": {
        "id": "1zwVFcV2FvtZ"
      }
    },
    {
      "cell_type": "code",
      "execution_count": 1,
      "metadata": {
        "id": "7PPLKkmCFDBU"
      },
      "outputs": [],
      "source": [
        "class Programa:\n",
        "    teste = True # Isso aqui foi eu quem colocou\n",
        "\n",
        "    def __init__(self, nome, ano):\n",
        "        self.__nome = nome.title() # _Programa__nome\n",
        "        self.ano = ano # Não é tão importante, logo nao faz muita diferença colocar tudo no private\n",
        "        self.__likes = 0\n",
        "\n",
        "    # Isso aqui foi eu quem colocou\n",
        "    def retorna_teste(self):\n",
        "        return \"ok\" if __class__.teste else \"Not Ok\"\n",
        "\n",
        "    @property\n",
        "    def likes(self):\n",
        "        return self.__likes\n",
        "\n",
        "    def dar_like(self):\n",
        "        self.__likes += 1\n",
        "\n",
        "    @property\n",
        "    def nome(self):\n",
        "        return self.__nome\n",
        "\n",
        "    @nome.setter\n",
        "    def nome(self, novo_nome):\n",
        "        self.__nome = novo_nome.title()\n",
        "\n",
        "    def __str___(self):\n",
        "        return f'{self.__nome} - {self.ano} - {self.likes} likes'\n",
        "\n",
        "class Filme(Programa):\n",
        "    def __init__(self, nome, ano, duracao):\n",
        "        super().__init__(nome, ano) # Não precisa usar o self nesse caso.\n",
        "        self.duracao = duracao\n",
        "\n",
        "    def __str__(self):\n",
        "        return f'{self.nome} - {self.ano} - {self.duracao} minutos - {self.likes} likes'\n",
        "\n",
        "class Serie(Programa):\n",
        "    def __init__(self, nome, ano, temporadas):\n",
        "        super().__init__(nome, ano) # Não precisa usar o self nesse caso.\n",
        "        self.temporadas = temporadas\n",
        "\n",
        "    def __str__(self):\n",
        "        return f'{self.nome} - {self.ano} - {self.temporadas} temporadas - {self.likes} likes'\n",
        "\n",
        "class  Playlist:\n",
        "    def __init__(self, nome, programas):\n",
        "        self.nome = nome\n",
        "        self.__programas = programas\n",
        "\n",
        "    # Duck typing\n",
        "    # Utilizando o __getitem__, temos todas as vantagens de um iterável sem precisar fazer herança.\n",
        "    def __getitem__(self, item):\n",
        "        return self.__programas[item]\n",
        "\n",
        "    @property\n",
        "    def listagem(self):\n",
        "        return self.__programas\n",
        "\n",
        "    @property\n",
        "    def tamanho(self):\n",
        "        return len(self.__programas)\n",
        "\n",
        "    def __len__(self):\n",
        "        return len(self.__programas)"
      ]
    },
    {
      "cell_type": "code",
      "source": [
        "vingadores = Filme('Vingadores - Guerra infinita', 2018, 160 )\n",
        "#print(f'Nome: {vingadores.nome} - Ano: {vingadores.ano} - Temporadas: {vingadores.duracao} - LIKES: {vingadores.likes}')\n",
        "\n",
        "atlanta = Serie('Atlanta', 2018, 2)\n",
        "#print(f'Nome: {atlanta.nome} - Ano: {atlanta.ano} - Temporadas: {atlanta.temporadas} - LIKES: {atlanta.likes}')\n",
        "\n",
        "tmep = Filme('Todo mundo ewm pânico', 1999, 100)\n",
        "demolidor = Serie('Demolidor', 2016, 2)\n",
        "\n",
        "vingadores.dar_like()\n",
        "tmep.dar_like()\n",
        "filmes_e_series = [vingadores, atlanta, demolidor, tmep]\n",
        "playlist_fim_de_semana = Playlist('fim de semana', filmes_e_series)\n",
        "\n",
        "print(f'Tamanho do playlist: {len(playlist_fim_de_semana.listagem)}')\n",
        "\n",
        "print(vingadores in playlist_fim_de_semana)\n",
        "\n",
        "len(playlist_fim_de_semana)\n",
        "\n",
        "for programa in playlist_fim_de_semana:\n",
        "    print(programa)\n"
      ],
      "metadata": {
        "colab": {
          "base_uri": "https://localhost:8080/"
        },
        "id": "9DpS0e_KFjqi",
        "outputId": "615604c0-e60c-4be0-c1e3-3e17fbf1ce17"
      },
      "execution_count": 2,
      "outputs": [
        {
          "output_type": "stream",
          "name": "stdout",
          "text": [
            "Tamanho do playlist: 4\n",
            "True\n",
            "Vingadores - Guerra Infinita - 2018 - 160 minutos - 1 likes\n",
            "Atlanta - 2018 - 2 temporadas - 0 likes\n",
            "Demolidor - 2016 - 2 temporadas - 0 likes\n",
            "Todo Mundo Ewm Pânico - 1999 - 100 minutos - 1 likes\n"
          ]
        }
      ]
    }
  ]
}