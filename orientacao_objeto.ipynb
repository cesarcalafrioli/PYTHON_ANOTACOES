{
  "nbformat": 4,
  "nbformat_minor": 0,
  "metadata": {
    "colab": {
      "provenance": []
    },
    "kernelspec": {
      "name": "python3",
      "display_name": "Python 3"
    },
    "language_info": {
      "name": "python"
    }
  },
  "cells": [
    {
      "cell_type": "markdown",
      "source": [
        "# **Orientação a objetos ( OO )**"
      ],
      "metadata": {
        "id": "tVdXAqIi2L-m"
      }
    },
    {
      "cell_type": "markdown",
      "source": [
        "Execute as linhas abaixo para o estudo"
      ],
      "metadata": {
        "id": "vtoLpyQd27YV"
      }
    },
    {
      "cell_type": "code",
      "execution_count": 1,
      "metadata": {
        "id": "jGqJ4P721S3Y"
      },
      "outputs": [],
      "source": [
        "def cria_conta(numero, titular, saldo, limite):\n",
        "    conta = {\"numero\": numero, \"titular\": titular, \"saldo\": saldo, \"limite\": limite}\n",
        "    return conta"
      ]
    },
    {
      "cell_type": "code",
      "source": [
        "def deposita(conta, valor):\n",
        "    conta[\"saldo\"] += valor"
      ],
      "metadata": {
        "id": "e3mImTcT2X5d"
      },
      "execution_count": 2,
      "outputs": []
    },
    {
      "cell_type": "code",
      "source": [
        "def saca(conta, valor):\n",
        "    conta[\"saldo\"] -= valor\n"
      ],
      "metadata": {
        "id": "3gn5Z_Ac2Y-k"
      },
      "execution_count": 3,
      "outputs": []
    },
    {
      "cell_type": "code",
      "source": [
        "def extrato(conta):\n",
        "    print(\"Saldo {}\".format(conta[\"saldo\"]))"
      ],
      "metadata": {
        "id": "ua_2iBx72aeo"
      },
      "execution_count": 4,
      "outputs": []
    },
    {
      "cell_type": "code",
      "source": [
        "conta = cria_conta(123, \"Nico\", 55.0, 1000.0 )"
      ],
      "metadata": {
        "id": "S2cObaT32hNk"
      },
      "execution_count": 6,
      "outputs": []
    },
    {
      "cell_type": "code",
      "source": [
        "deposita(conta, 300.0)"
      ],
      "metadata": {
        "id": "is0YiNJP2qDU"
      },
      "execution_count": 7,
      "outputs": []
    },
    {
      "cell_type": "code",
      "source": [
        "extrato(conta)"
      ],
      "metadata": {
        "id": "9VpIAuc82sRd"
      },
      "execution_count": null,
      "outputs": []
    },
    {
      "cell_type": "code",
      "source": [
        "saca(conta, 100.0)"
      ],
      "metadata": {
        "id": "d_Zy7i1Y2vr8"
      },
      "execution_count": 9,
      "outputs": []
    },
    {
      "cell_type": "code",
      "source": [
        "extrato(conta)"
      ],
      "metadata": {
        "id": "V-GnlUYP2yeF",
        "outputId": "20a799cd-a7fb-4df5-b155-eac27b627adc",
        "colab": {
          "base_uri": "https://localhost:8080/"
        }
      },
      "execution_count": 11,
      "outputs": [
        {
          "output_type": "stream",
          "name": "stdout",
          "text": [
            "Saldo 255.0\n"
          ]
        }
      ]
    },
    {
      "cell_type": "markdown",
      "source": [
        "# Classe e Objeto"
      ],
      "metadata": {
        "id": "_EO4EMVs2_x1"
      }
    }
  ]
}